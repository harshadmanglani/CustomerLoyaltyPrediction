{
 "cells": [
  {
   "cell_type": "code",
   "execution_count": 2,
   "metadata": {},
   "outputs": [],
   "source": [
    "\n",
    "import numpy as np\n",
    "import pandas as pd\n",
    "import sys\n",
    "\n",
    "dataset = pd.read_csv('Churn_Modelling.csv')\n",
    "X = dataset.iloc[:, 3:-1].values\n",
    "y = dataset.iloc[:, [13]].values\n"
   ]
  },
  {
   "cell_type": "code",
   "execution_count": 15,
   "metadata": {},
   "outputs": [],
   "source": [
    "\n",
    "from sklearn.model_selection import train_test_split\n",
    "from sklearn.preprocessing import OneHotEncoder, StandardScaler, LabelEncoder\n",
    "from sklearn.compose import ColumnTransformer\n",
    "\n",
    "#onehotencode indices 1 and 2 from the X dataset\n",
    "label = LabelEncoder()\n",
    "X[:, 1] = label.fit_transform(X[:, 1])\n",
    "\n",
    "label = None\n",
    "label = LabelEncoder()\n",
    "X[:, 2] = label.fit_transform(X[:, 2])\n",
    "ct = ColumnTransformer([('encoder', OneHotEncoder(categories = 'auto'), [1])], remainder = 'passthrough')\n",
    "X = np.array(ct.fit_transform(X), dtype = np.float)\n",
    "\n",
    "X = X[:, 1:]\n",
    "\n",
    "sc = StandardScaler()\n",
    "X = sc.fit_transform(X)\n",
    "\n",
    "X_train, X_test, y_train, y_test = train_test_split(X, y, test_size = 0.20, random_state = 0)"
   ]
  },
  {
   "cell_type": "code",
   "execution_count": 16,
   "metadata": {},
   "outputs": [],
   "source": [
    "import keras\n",
    "from keras.models import Sequential\n",
    "from keras.layers import Dense\n"
   ]
  },
  {
   "cell_type": "code",
   "execution_count": 19,
   "metadata": {},
   "outputs": [
    {
     "name": "stdout",
     "output_type": "stream",
     "text": [
      "Epoch 1/20\n",
      "8000/8000 [==============================] - 11s 1ms/step - loss: 0.4108 - accuracy: 0.8301\n",
      "Epoch 2/20\n",
      "8000/8000 [==============================] - 10s 1ms/step - loss: 0.3695 - accuracy: 0.8486\n",
      "Epoch 3/20\n",
      "8000/8000 [==============================] - 10s 1ms/step - loss: 0.3549 - accuracy: 0.8560\n",
      "Epoch 4/20\n",
      "8000/8000 [==============================] - 9s 1ms/step - loss: 0.3487 - accuracy: 0.8591\n",
      "Epoch 5/20\n",
      "8000/8000 [==============================] - 9s 1ms/step - loss: 0.3450 - accuracy: 0.8599\n",
      "Epoch 6/20\n",
      "8000/8000 [==============================] - 9s 1ms/step - loss: 0.3392 - accuracy: 0.8614\n",
      "Epoch 7/20\n",
      "8000/8000 [==============================] - 10s 1ms/step - loss: 0.3368 - accuracy: 0.8634\n",
      "Epoch 8/20\n",
      "8000/8000 [==============================] - 10s 1ms/step - loss: 0.3343 - accuracy: 0.8656\n",
      "Epoch 9/20\n",
      "8000/8000 [==============================] - 10s 1ms/step - loss: 0.3268 - accuracy: 0.8700\n",
      "Epoch 10/20\n",
      "8000/8000 [==============================] - 11s 1ms/step - loss: 0.3269 - accuracy: 0.8679\n",
      "Epoch 11/20\n",
      "8000/8000 [==============================] - 11s 1ms/step - loss: 0.3221 - accuracy: 0.8681\n",
      "Epoch 12/20\n",
      "8000/8000 [==============================] - 12s 1ms/step - loss: 0.3193 - accuracy: 0.8695\n",
      "Epoch 13/20\n",
      "8000/8000 [==============================] - 12s 2ms/step - loss: 0.3138 - accuracy: 0.8711\n",
      "Epoch 14/20\n",
      "8000/8000 [==============================] - 11s 1ms/step - loss: 0.3089 - accuracy: 0.8748\n",
      "Epoch 15/20\n",
      "8000/8000 [==============================] - 10s 1ms/step - loss: 0.3045 - accuracy: 0.8775\n",
      "Epoch 16/20\n",
      "8000/8000 [==============================] - 11s 1ms/step - loss: 0.2975 - accuracy: 0.8779\n",
      "Epoch 17/20\n",
      "8000/8000 [==============================] - 11s 1ms/step - loss: 0.2921 - accuracy: 0.8794\n",
      "Epoch 18/20\n",
      "8000/8000 [==============================] - 11s 1ms/step - loss: 0.2828 - accuracy: 0.8829\n",
      "Epoch 19/20\n",
      "8000/8000 [==============================] - 10s 1ms/step - loss: 0.2796 - accuracy: 0.8848\n",
      "Epoch 20/20\n",
      "8000/8000 [==============================] - 10s 1ms/step - loss: 0.2724 - accuracy: 0.8863\n"
     ]
    },
    {
     "data": {
      "text/plain": [
       "<keras.callbacks.callbacks.History at 0x29f1400c288>"
      ]
     },
     "execution_count": 19,
     "metadata": {},
     "output_type": "execute_result"
    }
   ],
   "source": [
    "classifier = Sequential()\n",
    "classifier.add(Dense(units = 600, kernel_initializer = 'uniform', activation = 'relu', input_dim = 11))\n",
    "classifier.add(Dense(units = 500, kernel_initializer = 'uniform', activation = 'relu'))\n",
    "classifier.add(Dense(units = 500, kernel_initializer = 'uniform', activation = 'relu'))\n",
    "classifier.add(Dense(units = 300, kernel_initializer = 'uniform', activation = 'relu'))\n",
    "classifier.add(Dense(units = 300, kernel_initializer = 'uniform', activation = 'relu'))\n",
    "classifier.add(Dense(units = 1, kernel_initializer = 'uniform', activation = 'sigmoid'))\n",
    "\n",
    "# Compiling the ANN\n",
    "classifier.compile(optimizer = 'adam', loss = 'binary_crossentropy', metrics = ['accuracy'])\n",
    "\n",
    "# Fitting the ANN to the Training set\n",
    "classifier.fit(X_train, y_train, batch_size = 10, epochs = 20, verbose = 1, )\n"
   ]
  },
  {
   "cell_type": "code",
   "execution_count": 20,
   "metadata": {},
   "outputs": [
    {
     "name": "stdout",
     "output_type": "stream",
     "text": [
      "2000/2000 [==============================] - 0s 68us/step\n"
     ]
    },
    {
     "data": {
      "text/plain": [
       "[0.4023571892976761, 0.8619999885559082]"
      ]
     },
     "execution_count": 20,
     "metadata": {},
     "output_type": "execute_result"
    }
   ],
   "source": [
    "classifier.evaluate(X_test, y_test)"
   ]
  }
 ],
 "metadata": {
  "kernelspec": {
   "display_name": "Python 3",
   "language": "python",
   "name": "python3"
  },
  "language_info": {
   "codemirror_mode": {
    "name": "ipython",
    "version": 3
   },
   "file_extension": ".py",
   "mimetype": "text/x-python",
   "name": "python",
   "nbconvert_exporter": "python",
   "pygments_lexer": "ipython3",
   "version": "3.7.4"
  }
 },
 "nbformat": 4,
 "nbformat_minor": 2
}
